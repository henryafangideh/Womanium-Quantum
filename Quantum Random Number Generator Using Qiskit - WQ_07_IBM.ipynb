{
 "cells": [
  {
   "cell_type": "code",
   "execution_count": 1,
   "id": "37f460d6",
   "metadata": {},
   "outputs": [],
   "source": [
    "from qiskit import*"
   ]
  },
  {
   "cell_type": "code",
   "execution_count": 2,
   "id": "4d8d1586",
   "metadata": {},
   "outputs": [],
   "source": [
    "import math"
   ]
  },
  {
   "cell_type": "code",
   "execution_count": null,
   "id": "18bbbf8e",
   "metadata": {},
   "outputs": [],
   "source": [
    "#Input the boundaries of the random number you want to generate\n",
    "\n",
    "x=int(input(\"Lower Boundary = \"))\n",
    "y= int(input(\"Upper Boundary = \")) "
   ]
  },
  {
   "cell_type": "code",
   "execution_count": null,
   "id": "623c5a26",
   "metadata": {},
   "outputs": [],
   "source": [
    "#A mid-point between both lower and upper boundaries. It serves as the average number of hits each state would get\n",
    "\n",
    "mid_point=(x+y)/2"
   ]
  },
  {
   "cell_type": "code",
   "execution_count": null,
   "id": "14edec3e",
   "metadata": {},
   "outputs": [],
   "source": [
    "#The total number of states involved. It is rounded up to the nearest integer\n",
    "\n",
    "no_of_states=math.ceil(1024/mid_point)"
   ]
  },
  {
   "cell_type": "code",
   "execution_count": null,
   "id": "c4c8441b",
   "metadata": {},
   "outputs": [],
   "source": [
    "#Recall n qubits gives rise to n^2 states. This line gives the needed qubits to support the states rouned to the nearest integer\n",
    "\n",
    "qubits=math.ceil(math.log(no_of_states,2))"
   ]
  },
  {
   "cell_type": "code",
   "execution_count": null,
   "id": "050dbb56",
   "metadata": {},
   "outputs": [],
   "source": [
    "#Initializing a QuantumCircuit with the specific number of Quantum and Classia registers\n",
    "circ=QuantumCircuit(qubits,qubits)"
   ]
  },
  {
   "cell_type": "code",
   "execution_count": null,
   "id": "c159623c",
   "metadata": {},
   "outputs": [],
   "source": [
    "#A for loop applying Hadamard to all the qubits and measuring them into the classical registers\n",
    "\n",
    "for i in range(qubits):\n",
    "    circ.h(i)\n",
    "    circ.measure(i,i)"
   ]
  },
  {
   "cell_type": "code",
   "execution_count": null,
   "id": "ba616e1a",
   "metadata": {},
   "outputs": [],
   "source": [
    "#Picking a backend to run the simulation\n",
    "\n",
    "backend=Aer.get_backend('qasm_simulator')"
   ]
  },
  {
   "cell_type": "code",
   "execution_count": null,
   "id": "e7df0327",
   "metadata": {},
   "outputs": [],
   "source": [
    "job=backend.run(circ)"
   ]
  },
  {
   "cell_type": "code",
   "execution_count": null,
   "id": "64b84f5a",
   "metadata": {},
   "outputs": [],
   "source": [
    "result=job.result()"
   ]
  },
  {
   "cell_type": "code",
   "execution_count": null,
   "id": "2bcf2e8b",
   "metadata": {},
   "outputs": [],
   "source": [
    "#Records the amount of hits each state gets\n",
    "counts=result.get_counts(circ)"
   ]
  },
  {
   "cell_type": "code",
   "execution_count": null,
   "id": "5c63f9a7",
   "metadata": {},
   "outputs": [],
   "source": [
    "#Displays an element (the first element in this case) of the counts dictionary which is our random number\n",
    "\n",
    "list(counts.values())[0]"
   ]
  }
 ],
 "metadata": {
  "kernelspec": {
   "display_name": "Python 3 (ipykernel)",
   "language": "python",
   "name": "python3"
  },
  "language_info": {
   "codemirror_mode": {
    "name": "ipython",
    "version": 3
   },
   "file_extension": ".py",
   "mimetype": "text/x-python",
   "name": "python",
   "nbconvert_exporter": "python",
   "pygments_lexer": "ipython3",
   "version": "3.9.12"
  }
 },
 "nbformat": 4,
 "nbformat_minor": 5
}
